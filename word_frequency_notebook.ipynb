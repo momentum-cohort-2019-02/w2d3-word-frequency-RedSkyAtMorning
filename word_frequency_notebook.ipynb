{
 "cells": [
  {
   "cell_type": "code",
   "execution_count": 2,
   "metadata": {
    "scrolled": true
   },
   "outputs": [],
   "source": [
    "openfile = open(\"./w2d3-word-frequency-RedSkyAtMorning/seneca_falls.txt\")"
   ]
  },
  {
   "cell_type": "code",
   "execution_count": 3,
   "metadata": {},
   "outputs": [],
   "source": [
    "rawtext = repr(openfile.readline())"
   ]
  },
  {
   "cell_type": "code",
   "execution_count": 4,
   "metadata": {},
   "outputs": [],
   "source": [
    "inputString = rawtext.replace(\"\\n\",\" \")"
   ]
  },
  {
   "cell_type": "code",
   "execution_count": 5,
   "metadata": {},
   "outputs": [
    {
     "name": "stdout",
     "output_type": "stream",
     "text": [
      "['\"When,', 'in', 'the', 'course', 'of', 'human', 'events,', 'it', 'becomes', 'necessary', 'for', 'one', 'portion', 'of', 'the', 'family', 'of', 'man', 'to', 'assume', 'among', 'the', 'people', 'of', 'the', 'earth', 'a', 'position', 'different', 'from', 'that', 'which', 'they', 'have', 'hitherto', 'occupied,', 'but', 'one', 'to', 'which', 'the', 'laws', 'of', 'nature', 'and', 'of', \"nature's\", 'God', 'entitle', 'them,', 'a', 'decent', 'respect', 'to', 'the', 'opinions', 'of', 'mankind', 'requires', 'that', 'they', 'should', 'declare', 'the', 'causes', 'that', 'impel', 'them', 'to', 'such', 'a', 'course.\\\\n\"']\n"
     ]
    }
   ],
   "source": [
    "splitInputString = inputString.split(\" \")\n",
    "print(splitInputString)"
   ]
  },
  {
   "cell_type": "code",
   "execution_count": 6,
   "metadata": {},
   "outputs": [],
   "source": [
    "punctlist = [\",\",\".\",\"'\",\"!\",\"?\",\"'\"]"
   ]
  },
  {
   "cell_type": "code",
   "execution_count": 7,
   "metadata": {},
   "outputs": [],
   "source": [
    "def FXstrip(stringToBeCleaned):\n",
    "    length = len(stringToBeCleaned)\n",
    "    position = 0\n",
    "    clean = \"\"\n",
    "    while position < length:\n",
    "        cleanletter = stringToBeCleaned[position]\n",
    "        if cleanletter not in punctlist:\n",
    "            clean = clean + cleanletter.lower()\n",
    "        position += 1\n",
    "    return clean"
   ]
  },
  {
   "cell_type": "code",
   "execution_count": 9,
   "metadata": {},
   "outputs": [],
   "source": [
    "STOP_WORDS = [\n",
    "    'a', 'an', 'and', 'are', 'as', 'at', 'be', 'by', 'for', 'from', 'has', 'he',\n",
    "    'i', 'in', 'is', 'it', 'its', 'of', 'on', 'that', 'the', 'to', 'were',\n",
    "    'will', 'with'\n",
    "]"
   ]
  },
  {
   "cell_type": "code",
   "execution_count": 10,
   "metadata": {},
   "outputs": [],
   "source": [
    "def FXclean(listToBeCleaned): \n",
    "    newlist = []\n",
    "    for item in listToBeCleaned: \n",
    "        newitem = FXstrip(item)\n",
    "        if newitem not in STOP_WORDS:\n",
    "            newlist.append(newitem)\n",
    "    return newlist"
   ]
  },
  {
   "cell_type": "code",
   "execution_count": 11,
   "metadata": {},
   "outputs": [],
   "source": [
    "cleanString = FXclean(splitInputString)"
   ]
  },
  {
   "cell_type": "code",
   "execution_count": 13,
   "metadata": {},
   "outputs": [],
   "source": [
    "def FXConvertToDict(listToBeConverted):\n",
    "    newDict={}\n",
    "    for item in listToBeConverted:\n",
    "        if item not in newDict:\n",
    "            newDict[item] = 1\n",
    "        else:\n",
    "            newDict[item] += 1\n",
    "    return newDict"
   ]
  },
  {
   "cell_type": "code",
   "execution_count": 14,
   "metadata": {},
   "outputs": [],
   "source": [
    "goodDict = FXConvertToDict(cleanString)"
   ]
  },
  {
   "cell_type": "code",
   "execution_count": 16,
   "metadata": {},
   "outputs": [],
   "source": [
    "test = max(goodDict.values())"
   ]
  },
  {
   "cell_type": "code",
   "execution_count": 17,
   "metadata": {},
   "outputs": [],
   "source": [
    "def FXasterisk(integer):\n",
    "    counter = 0\n",
    "    string = \"\"\n",
    "    while counter < integer:\n",
    "        string = string + \"*\"\n",
    "        counter += 1\n",
    "    return string"
   ]
  },
  {
   "cell_type": "code",
   "execution_count": 18,
   "metadata": {},
   "outputs": [
    {
     "data": {
      "text/plain": [
       "'**'"
      ]
     },
     "execution_count": 18,
     "metadata": {},
     "output_type": "execute_result"
    }
   ],
   "source": [
    "FXasterisk(test)"
   ]
  },
  {
   "cell_type": "code",
   "execution_count": 19,
   "metadata": {},
   "outputs": [],
   "source": [
    "SortedGood = sorted(goodDict.items(), key=lambda x: x[1], reverse=True)"
   ]
  },
  {
   "cell_type": "code",
   "execution_count": 21,
   "metadata": {},
   "outputs": [
    {
     "name": "stdout",
     "output_type": "stream",
     "text": [
      "          one | **\n",
      "        which | **\n",
      "         they | **\n",
      "         them | **\n",
      "        \"when | *\n",
      "       course | *\n",
      "        human | *\n",
      "       events | *\n",
      "      becomes | *\n",
      "    necessary | *\n",
      "      portion | *\n",
      "       family | *\n",
      "          man | *\n",
      "       assume | *\n",
      "        among | *\n",
      "       people | *\n",
      "        earth | *\n",
      "     position | *\n",
      "    different | *\n",
      "         have | *\n",
      "     hitherto | *\n",
      "     occupied | *\n",
      "          but | *\n",
      "         laws | *\n",
      "       nature | *\n",
      "      natures | *\n",
      "          god | *\n",
      "      entitle | *\n",
      "       decent | *\n",
      "      respect | *\n",
      "     opinions | *\n",
      "      mankind | *\n",
      "     requires | *\n",
      "       should | *\n",
      "      declare | *\n",
      "       causes | *\n",
      "        impel | *\n",
      "         such | *\n",
      "    course\\n\" | *\n"
     ]
    }
   ],
   "source": [
    "for word, wordcount in SortedGood:\n",
    "          print('{:>13}'.format(word),\"|\",FXasterisk(wordcount))\n",
    "               # f\"The comedian is {comedian['name']}, aged {comedian['age']}.\"\n",
    " "
   ]
  },
  {
   "cell_type": "code",
   "execution_count": null,
   "metadata": {},
   "outputs": [],
   "source": []
  }
 ],
 "metadata": {
  "kernelspec": {
   "display_name": "Python 3",
   "language": "python",
   "name": "python3"
  },
  "language_info": {
   "codemirror_mode": {
    "name": "ipython",
    "version": 3
   },
   "file_extension": ".py",
   "mimetype": "text/x-python",
   "name": "python",
   "nbconvert_exporter": "python",
   "pygments_lexer": "ipython3",
   "version": "3.7.2"
  }
 },
 "nbformat": 4,
 "nbformat_minor": 2
}
